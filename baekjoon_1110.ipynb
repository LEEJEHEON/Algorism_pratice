{
 "cells": [
  {
   "cell_type": "code",
   "execution_count": 9,
   "id": "6642e253-a195-4c48-9872-d038691fd8e9",
   "metadata": {},
   "outputs": [
    {
     "name": "stdin",
     "output_type": "stream",
     "text": [
      " 0\n"
     ]
    },
    {
     "name": "stdout",
     "output_type": "stream",
     "text": [
      "1\n"
     ]
    }
   ],
   "source": [
    "n = int(input())\n",
    "count = 0\n",
    "start = n\n",
    "while(True):\n",
    "    \n",
    "    m = (n//10)+(n%10)\n",
    "    n = (n%10)*10 + (m%10)\n",
    "    \n",
    "    count += 1\n",
    "    \n",
    "    if(start == n):\n",
    "        print(count)\n",
    "        break\n",
    "        "
   ]
  }
 ],
 "metadata": {
  "kernelspec": {
   "display_name": "freedom",
   "language": "python",
   "name": "playground"
  },
  "language_info": {
   "codemirror_mode": {
    "name": "ipython",
    "version": 3
   },
   "file_extension": ".py",
   "mimetype": "text/x-python",
   "name": "python",
   "nbconvert_exporter": "python",
   "pygments_lexer": "ipython3",
   "version": "3.9.2"
  }
 },
 "nbformat": 4,
 "nbformat_minor": 5
}
