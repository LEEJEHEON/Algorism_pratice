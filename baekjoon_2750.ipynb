{
 "cells": [
  {
   "cell_type": "code",
   "execution_count": 12,
   "id": "166bbae3-7744-4cc1-a7cb-b4104d4da65a",
   "metadata": {},
   "outputs": [
    {
     "name": "stdin",
     "output_type": "stream",
     "text": [
      " 6\n",
      " 13\n",
      " 42\n",
      " 1\n",
      " 64\n",
      " 24\n",
      " 5\n"
     ]
    },
    {
     "name": "stdout",
     "output_type": "stream",
     "text": [
      "1\n",
      "5\n",
      "13\n",
      "24\n",
      "42\n",
      "64\n"
     ]
    }
   ],
   "source": [
    "sort_list = []\n",
    "for n in range(int(input())):\n",
    "    sort_list.append(int(input()))\n",
    "\n",
    "for m in range(len(sort_list)-1):\n",
    "    for j in range(len(sort_list)-(m+1)):\n",
    "        if sort_list[j] > sort_list[j+1]:\n",
    "            temp = sort_list[j]\n",
    "            sort_list[j]= sort_list[j+1]\n",
    "            sort_list[j+1]=temp\n",
    "for p in sort_list:\n",
    "    print(p)"
   ]
  },
  {
   "cell_type": "code",
   "execution_count": null,
   "id": "8d4c7e6b-9516-45e4-b7d5-838e243b7afd",
   "metadata": {},
   "outputs": [],
   "source": []
  }
 ],
 "metadata": {
  "kernelspec": {
   "display_name": "freedom",
   "language": "python",
   "name": "playground"
  },
  "language_info": {
   "codemirror_mode": {
    "name": "ipython",
    "version": 3
   },
   "file_extension": ".py",
   "mimetype": "text/x-python",
   "name": "python",
   "nbconvert_exporter": "python",
   "pygments_lexer": "ipython3",
   "version": "3.9.2"
  }
 },
 "nbformat": 4,
 "nbformat_minor": 5
}
