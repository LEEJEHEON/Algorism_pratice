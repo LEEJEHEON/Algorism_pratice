{
 "cells": [
  {
   "cell_type": "code",
   "execution_count": 52,
   "id": "6ecec835-eff8-4cad-81aa-71a819de6578",
   "metadata": {},
   "outputs": [
    {
     "name": "stdin",
     "output_type": "stream",
     "text": [
      " 3\n",
      " 40 80 60\n"
     ]
    },
    {
     "name": "stdout",
     "output_type": "stream",
     "text": [
      "75.0\n"
     ]
    }
   ],
   "source": [
    "n = int(input())\n",
    "new_average = 0\n",
    "score_list = []\n",
    "\n",
    "score_list.extend(input().split())\n",
    "score_list= list(map(int,score_list))\n",
    "\n",
    "for j in score_list:\n",
    "    new_average += (j/max(score_list)*100)\n",
    "    \n",
    "print(new_average / n)"
   ]
  }
 ],
 "metadata": {
  "kernelspec": {
   "display_name": "freedom",
   "language": "python",
   "name": "playground"
  },
  "language_info": {
   "codemirror_mode": {
    "name": "ipython",
    "version": 3
   },
   "file_extension": ".py",
   "mimetype": "text/x-python",
   "name": "python",
   "nbconvert_exporter": "python",
   "pygments_lexer": "ipython3",
   "version": "3.9.2"
  }
 },
 "nbformat": 4,
 "nbformat_minor": 5
}
