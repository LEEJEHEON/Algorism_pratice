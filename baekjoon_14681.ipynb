{
 "cells": [
  {
   "cell_type": "markdown",
   "id": "amateur-footwear",
   "metadata": {},
   "source": [
    "# 사분면 고르기 "
   ]
  },
  {
   "cell_type": "code",
   "execution_count": 4,
   "id": "devoted-blend",
   "metadata": {},
   "outputs": [
    {
     "name": "stdin",
     "output_type": "stream",
     "text": [
      " 9\n",
      " -13\n"
     ]
    },
    {
     "name": "stdout",
     "output_type": "stream",
     "text": [
      "4\n"
     ]
    }
   ],
   "source": [
    "x = int(input())\n",
    "y = int(input())\n",
    "\n",
    "if x>0 :\n",
    "    if y >0 :\n",
    "        print(1)\n",
    "    else :\n",
    "        print(4)\n",
    "else:\n",
    "    if y>0:\n",
    "        print(2)\n",
    "    else:\n",
    "        print(3)"
   ]
  }
 ],
 "metadata": {
  "kernelspec": {
   "display_name": "[python36.x]",
   "language": "python",
   "name": "lee36"
  },
  "language_info": {
   "codemirror_mode": {
    "name": "ipython",
    "version": 3
   },
   "file_extension": ".py",
   "mimetype": "text/x-python",
   "name": "python",
   "nbconvert_exporter": "python",
   "pygments_lexer": "ipython3",
   "version": "3.6.10"
  }
 },
 "nbformat": 4,
 "nbformat_minor": 5
}
