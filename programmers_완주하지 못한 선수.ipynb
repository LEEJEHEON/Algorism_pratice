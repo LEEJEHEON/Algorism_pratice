{
 "cells": [
  {
   "cell_type": "code",
   "execution_count": 36,
   "metadata": {},
   "outputs": [],
   "source": [
    "def solution(participant, completion):\n",
    "    answer = ''\n",
    "    for a in participant:\n",
    "        if a not in completion:\n",
    "            answer = a\n",
    "            break\n",
    "        else:\n",
    "            completion.remove(n)\n",
    "\n",
    "    return answer\n",
    "\n",
    "# 정확 50 효율 0"
   ]
  },
  {
   "cell_type": "code",
   "execution_count": 110,
   "metadata": {},
   "outputs": [],
   "source": [
    "def solution(participant, completion):\n",
    "    a=sorted(participant)\n",
    "    b=sorted(completion)\n",
    "    if list(set(a))==list(set(b)): # 중복값이 있다면\n",
    "        answer = ''\n",
    "        for n in participant:\n",
    "            if n not in completion:\n",
    "                answer = n\n",
    "                break\n",
    "            else:\n",
    "                completion.remove(n)        \n",
    "        return answer\n",
    "    \n",
    "    else: #없으면\n",
    "        return ''.join(list(set(participant)-set(completion)))\n",
    "\n",
    "# 정확 50 / 효율 40"
   ]
  },
  {
   "cell_type": "code",
   "execution_count": 120,
   "metadata": {},
   "outputs": [],
   "source": [
    "def solution(participant, completion):\n",
    "    a=sorted(participant)\n",
    "    b=sorted(completion)\n",
    "    if list(set(a))==list(set(b)): # 중복값이 있다면\n",
    "        count = {}\n",
    "        for i in participant:\n",
    "            try: count[i] += 1\n",
    "            except: count[i] = 1\n",
    "        \n",
    "        for k, v in count.items():\n",
    "            if v > 1:\n",
    "                return k\n",
    "        \n",
    "    \n",
    "    else: #없으면\n",
    "        return ''.join(list(set(participant)-set(completion)))\n",
    "\n",
    "# 정확 30 / 효율 40"
   ]
  }
 ],
 "metadata": {
  "kernelspec": {
   "display_name": "freedom",
   "language": "python",
   "name": "playground"
  },
  "language_info": {
   "codemirror_mode": {
    "name": "ipython",
    "version": 3
   },
   "file_extension": ".py",
   "mimetype": "text/x-python",
   "name": "python",
   "nbconvert_exporter": "python",
   "pygments_lexer": "ipython3",
   "version": "3.9.2"
  }
 },
 "nbformat": 4,
 "nbformat_minor": 4
}
