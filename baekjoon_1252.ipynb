{
 "cells": [
  {
   "cell_type": "code",
   "execution_count": 86,
   "id": "f8ad596b-3494-4cfd-b601-8d815929e611",
   "metadata": {},
   "outputs": [
    {
     "name": "stdin",
     "output_type": "stream",
     "text": [
      " 11 1\n"
     ]
    },
    {
     "name": "stdout",
     "output_type": "stream",
     "text": [
      "100\n"
     ]
    }
   ],
   "source": [
    "# 실패작 \n",
    "n = list(input().split(' '))\n",
    "answer = ''\n",
    "a = 0\n",
    "for i in range(len(n[0]) if len(n[0])>=len(n[1]) else len(n[1])):\n",
    "    try: \n",
    "        new = int(n[0][-1-i]) + int(n[1][-1-i]) + a\n",
    "    except :\n",
    "        new = int(n[0][-1-i] if len(n[0])>=len(n[1]) else n[1][-1-i]) + a\n",
    "        if new < 2:\n",
    "            answer += str(n[0][-1-i] if len(n[0])>=len(n[1]) else n[1][-1-i])\n",
    "            a = 0 \n",
    "        else :\n",
    "            a = 1\n",
    "            answer += str(0)\n",
    "        continue\n",
    "    if new == 2 : \n",
    "        a = 1\n",
    "        answer += str(0)\n",
    "    elif new == 3 :\n",
    "        a = 1\n",
    "        answer += str(1)\n",
    "    else :\n",
    "        a = 0\n",
    "        answer += str(new)\n",
    "if a == 1:\n",
    "    answer += str(a)\n",
    "      \n",
    "print(int(answer[::-1]))"
   ]
  },
  {
   "cell_type": "code",
   "execution_count": 89,
   "id": "02bec719-61c2-4c81-af19-2c846c2a6ebb",
   "metadata": {},
   "outputs": [
    {
     "name": "stdin",
     "output_type": "stream",
     "text": [
      " 111 1\n"
     ]
    },
    {
     "name": "stdout",
     "output_type": "stream",
     "text": [
      "1000\n"
     ]
    }
   ],
   "source": [
    "# 성공작 \n",
    "a, b = input().split()\n",
    "a = int(a, 2)\n",
    "b = int(b, 2)\n",
    "res = bin(a+b)[2:]\n",
    "print(res)"
   ]
  }
 ],
 "metadata": {
  "kernelspec": {
   "display_name": "freedom",
   "language": "python",
   "name": "playground"
  },
  "language_info": {
   "codemirror_mode": {
    "name": "ipython",
    "version": 3
   },
   "file_extension": ".py",
   "mimetype": "text/x-python",
   "name": "python",
   "nbconvert_exporter": "python",
   "pygments_lexer": "ipython3",
   "version": "3.9.2"
  }
 },
 "nbformat": 4,
 "nbformat_minor": 5
}
