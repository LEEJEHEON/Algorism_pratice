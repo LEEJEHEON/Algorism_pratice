{
 "cells": [
  {
   "cell_type": "code",
   "execution_count": 11,
   "id": "094ee6c6-99a7-42e5-9636-afaba550c65b",
   "metadata": {},
   "outputs": [
    {
     "name": "stdin",
     "output_type": "stream",
     "text": [
      " 3\n",
      " config.sys\n",
      " config.inf\n",
      " configures\n"
     ]
    },
    {
     "name": "stdout",
     "output_type": "stream",
     "text": [
      "config????\n"
     ]
    }
   ],
   "source": [
    "n = int(input())\n",
    "cmd = []\n",
    "answer = ''\n",
    "for i in range(n):\n",
    "    cmd.append(input())\n",
    "for j in range(len(cmd[0])):\n",
    "    for w in range(n):\n",
    "        if w+1 == n :\n",
    "            answer += cmd[w][j]\n",
    "            break\n",
    "        if cmd[w][j] != cmd[w+1][j]:\n",
    "            answer +='?'\n",
    "            break           \n",
    "print(answer)"
   ]
  }
 ],
 "metadata": {
  "kernelspec": {
   "display_name": "freedom",
   "language": "python",
   "name": "playground"
  },
  "language_info": {
   "codemirror_mode": {
    "name": "ipython",
    "version": 3
   },
   "file_extension": ".py",
   "mimetype": "text/x-python",
   "name": "python",
   "nbconvert_exporter": "python",
   "pygments_lexer": "ipython3",
   "version": "3.9.2"
  }
 },
 "nbformat": 4,
 "nbformat_minor": 5
}
