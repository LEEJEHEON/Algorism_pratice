{
 "cells": [
  {
   "cell_type": "code",
   "execution_count": 63,
   "metadata": {},
   "outputs": [],
   "source": [
    "def solution(board, moves):\n",
    "    answer = 0\n",
    "    s = -1 # 바구니 위치\n",
    "    bg =[]  # 바구니\n",
    "\n",
    "    for i in moves:\n",
    "        for j in range(len(board)):\n",
    "            if board[j][i-1]!=0:\n",
    "                bg.append(board[j][i-1])                \n",
    "                s +=1\n",
    "                board[j][i-1]=0\n",
    "                break\n",
    "\n",
    "        if s > 0 : # 0보다 크면 2개이상이라는거\n",
    "            if bg[s]==bg[s-1]:\n",
    "                bg.pop() & bg.pop()\n",
    "                s -=2\n",
    "                answer +=2\n",
    "                          \n",
    "    return answer"
   ]
  },
  {
   "cell_type": "code",
   "execution_count": 64,
   "metadata": {},
   "outputs": [
    {
     "data": {
      "text/plain": [
       "4"
      ]
     },
     "execution_count": 64,
     "metadata": {},
     "output_type": "execute_result"
    }
   ],
   "source": [
    "# 테스트 \n",
    "board = [[0,0,0,0,0],[0,0,1,0,3],[0,2,5,0,1],[4,2,4,4,2],[3,5,1,3,1]]\n",
    "moves = [1,5,3,5,1,2,1,4]\n",
    "\n",
    "solution(board,moves)"
   ]
  }
 ],
 "metadata": {
  "kernelspec": {
   "display_name": "freedom",
   "language": "python",
   "name": "playground"
  },
  "language_info": {
   "codemirror_mode": {
    "name": "ipython",
    "version": 3
   },
   "file_extension": ".py",
   "mimetype": "text/x-python",
   "name": "python",
   "nbconvert_exporter": "python",
   "pygments_lexer": "ipython3",
   "version": "3.9.2"
  }
 },
 "nbformat": 4,
 "nbformat_minor": 4
}
