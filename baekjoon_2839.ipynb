{
 "cells": [
  {
   "cell_type": "code",
   "execution_count": 51,
   "id": "ab75d9a6-4d7e-4994-97bc-6c9ee9ac5a87",
   "metadata": {},
   "outputs": [
    {
     "name": "stdin",
     "output_type": "stream",
     "text": [
      " 14\n"
     ]
    },
    {
     "name": "stdout",
     "output_type": "stream",
     "text": [
      "4\n"
     ]
    }
   ],
   "source": [
    "def baekjoon(sugar):\n",
    "    count_5 = sugar//5\n",
    "    count_3 = (sugar-(count_5*5))//3\n",
    "\n",
    "    if (count_5*5)+(count_3*3) == sugar:\n",
    "        return print(count_5+count_3)\n",
    "    else:\n",
    "        while count_5 != 0:\n",
    "            count_5 -= 1\n",
    "            count_3 = (sugar-(count_5*5))//3\n",
    "            if (count_5*5)+(count_3*3)==sugar:\n",
    "                return print(count_5+count_3)\n",
    "\n",
    "        return print(-1)\n",
    "        \n",
    "baekjoon(int(input()))"
   ]
  }
 ],
 "metadata": {
  "kernelspec": {
   "display_name": "freedom",
   "language": "python",
   "name": "playground"
  },
  "language_info": {
   "codemirror_mode": {
    "name": "ipython",
    "version": 3
   },
   "file_extension": ".py",
   "mimetype": "text/x-python",
   "name": "python",
   "nbconvert_exporter": "python",
   "pygments_lexer": "ipython3",
   "version": "3.9.2"
  }
 },
 "nbformat": 4,
 "nbformat_minor": 5
}
