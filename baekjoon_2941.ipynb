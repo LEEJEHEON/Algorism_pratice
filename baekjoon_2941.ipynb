{
 "cells": [
  {
   "cell_type": "code",
   "execution_count": 5,
   "id": "c266dd58-9ec7-4353-b1da-2c47899f0fc8",
   "metadata": {},
   "outputs": [
    {
     "name": "stdin",
     "output_type": "stream",
     "text": [
      " baaa\n"
     ]
    },
    {
     "name": "stdout",
     "output_type": "stream",
     "text": [
      "A\n"
     ]
    }
   ],
   "source": [
    "def baekjoon():\n",
    "    count={}\n",
    "    lists = list(input().upper())\n",
    "    for i in lists:\n",
    "        try: count[i] +=1\n",
    "        except: count[i] = 1\n",
    "    word_number=0\n",
    "    for key,value in count.items():\n",
    "        if max(count.values()) ==value:\n",
    "            m_word = key\n",
    "            word_number+=1\n",
    "        if word_number == 2:\n",
    "            return print('?')\n",
    "    return print(m_word)   \n",
    "      \n",
    "baekjoon()"
   ]
  }
 ],
 "metadata": {
  "kernelspec": {
   "display_name": "freedom",
   "language": "python",
   "name": "playground"
  },
  "language_info": {
   "codemirror_mode": {
    "name": "ipython",
    "version": 3
   },
   "file_extension": ".py",
   "mimetype": "text/x-python",
   "name": "python",
   "nbconvert_exporter": "python",
   "pygments_lexer": "ipython3",
   "version": "3.9.2"
  }
 },
 "nbformat": 4,
 "nbformat_minor": 5
}
