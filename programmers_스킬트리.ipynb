{
 "cells": [
  {
   "cell_type": "code",
   "execution_count": null,
   "id": "skilled-interval",
   "metadata": {},
   "outputs": [],
   "source": [
    "def solution(skill, skill_trees):\n",
    "    answer = 0 \n",
    "    char_skill=list(skill) # split \"CBD\" -> [\"C\",\"B\",\"D\"]\n",
    "    \n",
    "    if len(char_skill)==0: # SKILL 이 없을시에 모든 스킬트리가 가능  (문제에는 SKILL이 한글자 이상이라고 해서 쓸모X)\n",
    "        answer = len(skill_trees)\n",
    "    \n",
    "    for tree in skill_trees: # 스킬 리스트 split -> tree에 하나씩 들어감 [\"CAD\", \"AVC\",\"CEQ\"] -> \"CAD\"\n",
    "        skill_location = [] # SKILL에 자리를 입력하기 위한 배열\n",
    "        \n",
    "        for a in char_skill: # [\"C\",\"B\",\"D\"] -> \"C\"\n",
    "            try: # 예외 처리 (스킬이 스킬트리에 없는 경우 오류가 나서 처리)\n",
    "                skill_location.append(tree.index(a)) # \"CAD\" - \"C\"  C 인덱스는 0이므로 0이 append(추가)\n",
    "            except ValueError: # 오류 아무것도 안써도 무방 (하지만 여기서는 ValueError 만 나옴)\n",
    "                skill_location.append(-1) # 스킬트리안에 스킬이 없다면 -1 append(추가)\n",
    "        \n",
    "        # 첫번째 for문으로 [\"C\",\"B\",\"D\"] -> [0,-1, 2]\n",
    "        \n",
    "        for b in range(len(char_skill)): # len(char_skill) = 3 / range (3) = 0이상 3미만 / 즉 b는 0,1,2\n",
    "            if b == 0: # 처음으로 실행한 경우 (비교할 첫번째 인자를 추가하기 위해)\n",
    "                if b == (len(char_skill)-1): # 스킬이 한 개일 경우 b = 0 / len(char_skill)=1  (14번 테스트)\n",
    "                    answer += 1 # 스킬 한 개가 스킬트리에 포함되면 answer +1  'CBD' - 'C'\n",
    "                    break \n",
    "                frist = skill_location[b] # 아니면 frist에 저장 (비교하기 위해)\n",
    "            \n",
    "            else :# 두글자이상인 스킬트리 \n",
    "                if (frist== -1) : # 그 전 대상이 -1 이면(즉, 없음)\n",
    "                    if  skill_location[b]==-1: # 현재 대상도 -1 (여기도 없음) 'CBD' - 'AE' = [-1 -1] \n",
    "                        if b == (len(char_skill)-1): # range 라서 미만이기에 -1\n",
    "                            answer += 1 # 스킬트리에 있는 것들이 선행스킬과 상관없음 그러므로 +1\n",
    "                            break # 다음 스킬트리로 넘어감\n",
    "                        frist = skill_location[b] # 스킬트리의 모든 것을 비교하지 않았기에 다음 선행 스킬로 넘어감 'CBD' - 'AED' = [-1, -1, 2]\n",
    "                        \n",
    "                    else : # 현재 가르키고 있는 대상이 -1 이 아니면 바로 다음으로 넘어감 'CBD' - 'AC' = [-1 0]\n",
    "                        break \n",
    "\n",
    "                elif frist < skill_location[b]: # 올바르게 선행스킬을 먼저 배우고 다음 스킬을 배운 경우 \n",
    "                    if b == (len(char_skill)-1) : # 위의 것과 동일 (스킬를 순회한 경우) 'CBD' - 'CB' =[0 1]\n",
    "                        answer += 1\n",
    "                        break\n",
    "                    frist = skill_location[b] # 남아 있는 스킬이 있는 경우\n",
    "\n",
    "                elif (skill_location[b] == -1):# 선행스킬은 익혔으나 현재 스킬은 없는 경우 'CBD' - 'CA' = [0 -1]\n",
    "                    if b == (len(char_skill)-1):  # 'CBD' - 'CA' 예시처럼 마지막은 안배워서 필요없고 스킬를 순회함\n",
    "                        answer += 1\n",
    "                        break\n",
    "                    frist = skill_location[b]  # 아직 스킬을 다 순회하지 못함\n",
    "\n",
    "                else : # 잘못된 스킬트리를 했을 경우 'CBD' - 'BC' = [1 0]\n",
    "                    break \n",
    "        \n",
    "            \n",
    "    \n",
    "    return answer"
   ]
  },
  {
   "cell_type": "code",
   "execution_count": null,
   "id": "demanding-accommodation",
   "metadata": {},
   "outputs": [],
   "source": []
  }
 ],
 "metadata": {
  "kernelspec": {
   "display_name": "[python36.x]",
   "language": "python",
   "name": "lee36"
  },
  "language_info": {
   "codemirror_mode": {
    "name": "ipython",
    "version": 3
   },
   "file_extension": ".py",
   "mimetype": "text/x-python",
   "name": "python",
   "nbconvert_exporter": "python",
   "pygments_lexer": "ipython3",
   "version": "3.6.10"
  }
 },
 "nbformat": 4,
 "nbformat_minor": 5
}
