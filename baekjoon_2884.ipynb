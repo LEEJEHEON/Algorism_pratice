{
 "cells": [
  {
   "cell_type": "markdown",
   "id": "saved-replica",
   "metadata": {},
   "source": [
    "# 알람시계"
   ]
  },
  {
   "cell_type": "code",
   "execution_count": 27,
   "id": "antique-investing",
   "metadata": {},
   "outputs": [
    {
     "name": "stdin",
     "output_type": "stream",
     "text": [
      " 12 45\n"
     ]
    },
    {
     "name": "stdout",
     "output_type": "stream",
     "text": [
      "12 0\n"
     ]
    }
   ],
   "source": [
    "h,  m = input().split()\n",
    "h=int(h)\n",
    "m=int(m)\n",
    "\n",
    "if m >= 45:\n",
    "    print(h, m-45)\n",
    "else :\n",
    "    if h==0:\n",
    "        h= 24\n",
    "    print(h-1, (m+60)-45)"
   ]
  }
 ],
 "metadata": {
  "kernelspec": {
   "display_name": "[python36.x]",
   "language": "python",
   "name": "lee36"
  },
  "language_info": {
   "codemirror_mode": {
    "name": "ipython",
    "version": 3
   },
   "file_extension": ".py",
   "mimetype": "text/x-python",
   "name": "python",
   "nbconvert_exporter": "python",
   "pygments_lexer": "ipython3",
   "version": "3.6.10"
  }
 },
 "nbformat": 4,
 "nbformat_minor": 5
}
