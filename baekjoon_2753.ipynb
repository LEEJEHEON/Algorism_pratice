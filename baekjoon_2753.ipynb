{
 "cells": [
  {
   "cell_type": "markdown",
   "id": "going-engagement",
   "metadata": {},
   "source": [
    "# 윤년"
   ]
  },
  {
   "cell_type": "code",
   "execution_count": 19,
   "id": "double-singer",
   "metadata": {},
   "outputs": [
    {
     "name": "stdin",
     "output_type": "stream",
     "text": [
      " 1\n"
     ]
    },
    {
     "name": "stdout",
     "output_type": "stream",
     "text": [
      "0\n"
     ]
    }
   ],
   "source": [
    "x = int(input())\n",
    "if ((x%4==0) & (x%100!=0)) | (x%400==0):\n",
    "    print(1)\n",
    "else:\n",
    "    print(0)"
   ]
  }
 ],
 "metadata": {
  "kernelspec": {
   "display_name": "[python36.x]",
   "language": "python",
   "name": "lee36"
  },
  "language_info": {
   "codemirror_mode": {
    "name": "ipython",
    "version": 3
   },
   "file_extension": ".py",
   "mimetype": "text/x-python",
   "name": "python",
   "nbconvert_exporter": "python",
   "pygments_lexer": "ipython3",
   "version": "3.6.10"
  }
 },
 "nbformat": 4,
 "nbformat_minor": 5
}
